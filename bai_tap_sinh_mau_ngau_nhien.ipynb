{
  "nbformat": 4,
  "nbformat_minor": 0,
  "metadata": {
    "kernelspec": {
      "display_name": "Python 3",
      "language": "python",
      "name": "python3"
    },
    "language_info": {
      "codemirror_mode": {
        "name": "ipython",
        "version": 3
      },
      "file_extension": ".py",
      "mimetype": "text/x-python",
      "name": "python",
      "nbconvert_exporter": "python",
      "pygments_lexer": "ipython3",
      "version": "3.7.3"
    },
    "colab": {
      "name": "bai-tap-sinh-mau-ngau-nhien.ipynb",
      "provenance": [],
      "include_colab_link": true
    }
  },
  "cells": [
    {
      "cell_type": "markdown",
      "metadata": {
        "id": "view-in-github",
        "colab_type": "text"
      },
      "source": [
        "<a href=\"https://colab.research.google.com/github/Anh-Quan-07/2021/blob/main/bai_tap_sinh_mau_ngau_nhien.ipynb\" target=\"_parent\"><img src=\"https://colab.research.google.com/assets/colab-badge.svg\" alt=\"Open In Colab\"/></a>"
      ]
    },
    {
      "cell_type": "markdown",
      "metadata": {
        "id": "f9NcRRvDVaiF"
      },
      "source": [
        "Sử dụng thư viện Numpy\n",
        "\n",
        "1. Sinh mẫu ngẫu nhiên bằng hàm arange trong khoảng [-15, 27] với khoảng cách là 0.7 và in kết quả ra màn hình"
      ]
    },
    {
      "cell_type": "code",
      "metadata": {
        "id": "rfdwHEy-VaiI"
      },
      "source": [
        "import numpy as np\n",
        "from scipy import stats"
      ],
      "execution_count": null,
      "outputs": []
    },
    {
      "cell_type": "code",
      "metadata": {
        "colab": {
          "base_uri": "https://localhost:8080/"
        },
        "id": "ykjjPhf5fgq3",
        "outputId": "b27ab4b8-8a81-4854-8918-cb06301e2143"
      },
      "source": [
        "A = np.arange(-15, 27, 0.7)\n",
        "print(A) "
      ],
      "execution_count": null,
      "outputs": [
        {
          "output_type": "stream",
          "text": [
            "[-15.  -14.3 -13.6 -12.9 -12.2 -11.5 -10.8 -10.1  -9.4  -8.7  -8.   -7.3\n",
            "  -6.6  -5.9  -5.2  -4.5  -3.8  -3.1  -2.4  -1.7  -1.   -0.3   0.4   1.1\n",
            "   1.8   2.5   3.2   3.9   4.6   5.3   6.    6.7   7.4   8.1   8.8   9.5\n",
            "  10.2  10.9  11.6  12.3  13.   13.7  14.4  15.1  15.8  16.5  17.2  17.9\n",
            "  18.6  19.3  20.   20.7  21.4  22.1  22.8  23.5  24.2  24.9  25.6  26.3\n",
            "  27. ]\n"
          ],
          "name": "stdout"
        }
      ]
    },
    {
      "cell_type": "markdown",
      "metadata": {
        "id": "EgG9e1NdVaiI"
      },
      "source": [
        "2. Sinh mẫu ngẫu nhiên theo phân phối chuẩn với mean = 2.7 std = 1.2 và size = 40\n",
        "In kết quả ra màn hình"
      ]
    },
    {
      "cell_type": "code",
      "metadata": {
        "colab": {
          "base_uri": "https://localhost:8080/"
        },
        "id": "mNiBjM--VaiJ",
        "outputId": "d2e0e0ee-2451-4b75-d4ee-94b52da35c85"
      },
      "source": [
        "mean = 2.7   # loc\n",
        "std = 1.2    # scale\n",
        "size = 40    # cỡ mẫu\n",
        "\n",
        "a = stats.norm.rvs(mean, std, size)\n",
        "print(a)"
      ],
      "execution_count": null,
      "outputs": [
        {
          "output_type": "stream",
          "text": [
            "[ 3.63507485  4.06073994  3.30948462  2.42197469  1.32204336  1.45532242\n",
            "  1.69539206  3.46349117  2.35957795  2.81955035  2.72945484  3.06255333\n",
            "  3.08835367  3.58050904  2.96235925  4.19395816  2.56894541  1.40884689\n",
            "  3.67663037  2.61253817  0.94118505  4.09322701  4.36912596  0.75070738\n",
            "  2.66203764  2.99786623  1.43552132  1.14171743  4.82639663  3.32239968\n",
            "  1.9748966   2.49652721  4.77695194  4.04161657 -0.21516217  2.64366378\n",
            "  3.89987864  2.79059579  2.27460889  1.40345171]\n"
          ],
          "name": "stdout"
        }
      ]
    },
    {
      "cell_type": "markdown",
      "metadata": {
        "id": "SThKx785VaiJ"
      },
      "source": [
        "3. Sinh mẫu ngẫu nhiên từ vector ['Viet Nam', 'Britain', 'France', 'Russia', 'Singapore'] \n",
        "\n",
        "với kích thước là 17 theo phân phối chuẩn"
      ]
    },
    {
      "cell_type": "code",
      "metadata": {
        "colab": {
          "base_uri": "https://localhost:8080/"
        },
        "id": "VzWn56N8VaiJ",
        "outputId": "a2043e0c-fa2a-4ff2-906e-212f04b48daf"
      },
      "source": [
        "a = np.random.choice(['Viet Nam', 'Britain', 'France', 'Russia', 'Singapore'], 17)\n",
        "print(a)"
      ],
      "execution_count": null,
      "outputs": [
        {
          "output_type": "stream",
          "text": [
            "['Britain' 'Singapore' 'Russia' 'Russia' 'Britain' 'France' 'Singapore'\n",
            " 'Britain' 'Viet Nam' 'Viet Nam' 'Britain' 'Russia' 'Britain' 'Viet Nam'\n",
            " 'Singapore' 'Singapore' 'France']\n"
          ],
          "name": "stdout"
        }
      ]
    },
    {
      "cell_type": "markdown",
      "metadata": {
        "id": "BUOnbls_VaiJ"
      },
      "source": [
        "4. Sinh mẫu ngẫu nhiên ở câu 3 nhưng không theo phân phối chuẩn mà theo 1 vector đặc tả giá trị xác suất do bạn chọn"
      ]
    },
    {
      "cell_type": "code",
      "metadata": {
        "colab": {
          "base_uri": "https://localhost:8080/"
        },
        "id": "Pel1J4y9VaiK",
        "outputId": "6d4fa227-dab7-48cc-a1e6-961555eb2ea4"
      },
      "source": [
        "so_du_lieu = 5\n",
        "a = np.random.choice(['Viet Nam', 'Britain', 'France', 'Russia', 'Singapore'], so_du_lieu, p = [0.3, 0.3, 0.1, 0.1, 0.2]) \n",
        "print(a)"
      ],
      "execution_count": null,
      "outputs": [
        {
          "output_type": "stream",
          "text": [
            "['Russia' 'Viet Nam' 'Britain' 'Viet Nam' 'Singapore']\n"
          ],
          "name": "stdout"
        }
      ]
    },
    {
      "cell_type": "markdown",
      "metadata": {
        "id": "w00JRTq9VaiK"
      },
      "source": [
        "Sử dụng thư việc scipy.stats để sinh mẫu ngẫu nhiên\n",
        "\n",
        "1. Sinh mẫu ngẫu nhiên theo phân phối chuẩn với mean = 12.7, std = 2.6 và size = 30. In kết quả ra màn hình"
      ]
    },
    {
      "cell_type": "code",
      "metadata": {
        "colab": {
          "base_uri": "https://localhost:8080/"
        },
        "id": "9lIXvwSuVaiK",
        "outputId": "bb6e6905-cd88-494b-88a8-779f448f7634"
      },
      "source": [
        "mean = 12.7   # loc\n",
        "std = 2.6     # scale\n",
        "size = 30     # cỡ mẫu\n",
        "\n",
        "x = stats.norm.rvs(mean, std, size)\n",
        "print(x)"
      ],
      "execution_count": null,
      "outputs": [
        {
          "output_type": "stream",
          "text": [
            "[11.42891523 11.70649324 11.74355698 11.48185669 11.29606416 15.44708848\n",
            " 12.48084046 14.71406871 10.70691852 12.91114439 12.84654455 13.94806735\n",
            " 16.48888963  7.33960706  9.88812221 11.06967956 15.58708214 13.39294653\n",
            " 11.91518702 16.88009235 14.22050491 14.37928054 16.53694499 10.04924017\n",
            " 13.41712071  9.77587386 15.77930879 13.98296338  8.2511365  15.39743842]\n"
          ],
          "name": "stdout"
        }
      ]
    },
    {
      "cell_type": "markdown",
      "metadata": {
        "id": "h2Z-CuSgVaiK"
      },
      "source": [
        "2. Hãy sinh một mẫu ngẫu nhiên theo phân phối Poisson"
      ]
    },
    {
      "cell_type": "code",
      "metadata": {
        "colab": {
          "base_uri": "https://localhost:8080/"
        },
        "id": "o-eeVdB4VaiL",
        "outputId": "cf06a212-4f1c-44f3-b702-69dd91a53a6d"
      },
      "source": [
        "mean = 12.7   # loc\n",
        "std = 2.6    # scale\n",
        "size = 30    # cỡ mẫu\n",
        "\n",
        "x = stats.poisson.rvs(mean, std, size)\n",
        "print(x)"
      ],
      "execution_count": null,
      "outputs": [
        {
          "output_type": "stream",
          "text": [
            "[10 15 17 11 22  9 16  7 10 13  8 17 13 19 11 14 12 14 10 12 12 11 19 13\n",
            " 13 13 15 16  8 24]\n"
          ],
          "name": "stdout"
        }
      ]
    },
    {
      "cell_type": "code",
      "metadata": {
        "id": "efxq3W7zVaiL"
      },
      "source": [
        ""
      ],
      "execution_count": null,
      "outputs": []
    }
  ]
}