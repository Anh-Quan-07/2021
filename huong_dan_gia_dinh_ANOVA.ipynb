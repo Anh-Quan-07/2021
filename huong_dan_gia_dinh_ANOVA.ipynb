{
  "nbformat": 4,
  "nbformat_minor": 0,
  "metadata": {
    "kernelspec": {
      "display_name": "Python 3",
      "language": "python",
      "name": "python3"
    },
    "language_info": {
      "codemirror_mode": {
        "name": "ipython",
        "version": 3
      },
      "file_extension": ".py",
      "mimetype": "text/x-python",
      "name": "python",
      "nbconvert_exporter": "python",
      "pygments_lexer": "ipython3",
      "version": "3.7.3"
    },
    "colab": {
      "name": "huong-dan-gia-dinh-ANOVA.ipynb",
      "provenance": [],
      "include_colab_link": true
    }
  },
  "cells": [
    {
      "cell_type": "markdown",
      "metadata": {
        "id": "view-in-github",
        "colab_type": "text"
      },
      "source": [
        "<a href=\"https://colab.research.google.com/github/Anh-Quan-07/2021/blob/main/huong_dan_gia_dinh_ANOVA.ipynb\" target=\"_parent\"><img src=\"https://colab.research.google.com/assets/colab-badge.svg\" alt=\"Open In Colab\"/></a>"
      ]
    },
    {
      "cell_type": "markdown",
      "metadata": {
        "id": "xBEjwBSYXNzH"
      },
      "source": [
        "PHÂN TÍCH ANOVA MỘT CHIỀU\n",
        "\n",
        "Phân tích ANOVA chấp nhận các giả định sau:\n",
        "\n",
        "(1) Tất cả các nhóm đều độc lập với nhau\n",
        "\n",
        "(2) Dữ liệu của mỗi nhóm đều tuân theo phân phối chuẩn. Tính chất này có thể được kiểm định bằng phương pháp Shapiro-Wilks.\n",
        "\n",
        "(3) Phương sai (variance) của các nhóm bằng nhau. Tính chất này có thể được kiểm định bằng phương pháp kiểm định Bartlett hay Levene.\n",
        "\n",
        "Nếu dữ liệu hiện có thỏa mãn các tính chất trên thì chúng ta mới tiến hành kiểm định ANOVA. Do vậy trước khi tiến hành kiểm định ANOVA, chúng ta cần thực hiện kiểm tra tập dữ liệu cần thỏa mãn 3 tính chất trên.\n",
        "    "
      ]
    },
    {
      "cell_type": "code",
      "metadata": {
        "id": "x69DfNk3alxX"
      },
      "source": [
        "import numpy as np\n",
        "from scipy import stats\n",
        "import pandas as pd\n",
        "from scipy.stats import bartlett\n",
        "import random"
      ],
      "execution_count": 1,
      "outputs": []
    },
    {
      "cell_type": "code",
      "metadata": {
        "id": "2GlCf8BUXNzb",
        "outputId": "21fd4e2d-68df-4c5b-ea3a-a2a40b381b06",
        "colab": {
          "base_uri": "https://localhost:8080/"
        }
      },
      "source": [
        "#Bước 1: Hãy tạo một tập dữ liệu mẫu sample_1 với kích thước 100 tuân theo phân phối chuẩn\n",
        "sample_1 = stats.norm.rvs(loc=20, scale=0.2, size=100)\n",
        "print(sample_1[:10])"
      ],
      "execution_count": 2,
      "outputs": [
        {
          "output_type": "stream",
          "text": [
            "[20.10255794 19.70461027 19.87828187 19.77268322 20.22016259 19.94775629\n",
            " 20.07472609 20.27310433 20.05551143 19.98390769]\n"
          ],
          "name": "stdout"
        }
      ]
    },
    {
      "cell_type": "code",
      "metadata": {
        "id": "lpHLU-54XNzd",
        "outputId": "1277f69b-6e37-4470-9049-0bf3268cc789",
        "colab": {
          "base_uri": "https://localhost:8080/"
        }
      },
      "source": [
        "#Bước 2: hãy tạo tập dữ liệu mẫu sample_2 với kích thước 100 tuân theo phân phối Poisson\n",
        "sample_2 = stats.poisson.rvs(loc=20, mu = 1, size = 100)\n",
        "print(sample_2[:10])"
      ],
      "execution_count": 3,
      "outputs": [
        {
          "output_type": "stream",
          "text": [
            "[20 20 20 21 23 24 20 22 20 21]\n"
          ],
          "name": "stdout"
        }
      ]
    },
    {
      "cell_type": "code",
      "metadata": {
        "id": "hP8gmuEga35s",
        "outputId": "0364cd06-d485-4bfb-bd50-2b5dbf78f9a3",
        "colab": {
          "base_uri": "https://localhost:8080/"
        }
      },
      "source": [
        "from numpy.random import seed\n",
        "from numpy.random import poisson\n",
        "seed(0)\n",
        "sample_2 = poisson(5, 100)\n",
        "print(sample_2)"
      ],
      "execution_count": 4,
      "outputs": [
        {
          "output_type": "stream",
          "text": [
            "[ 9  5  6  5  5  8  4  5  4  3  3  7  3  3  4  5  2  1  7  7 10  5  8  8\n",
            "  6  4  4  3  1  5  6  5  5  4  1  7  2  7  6  2  6  5  7  5  4  5 10  6\n",
            "  4  7  3  2  2  6  2  5  3  6  2  4  4  4  8  7 11  3  4  1  4  5  1  2\n",
            "  2  5  5  5  7  8  4  6  4 10  3  8  5  7  3  8  2  1  4  4  4  4  6  4\n",
            " 12  1  6  3]\n"
          ],
          "name": "stdout"
        }
      ]
    },
    {
      "cell_type": "markdown",
      "metadata": {
        "id": "YKoAam-rXNzd"
      },
      "source": [
        "Hãy tham khảo các hướng dẫn sau để kiểm định tính chất thứ 2 bằng phương pháp Shapiro-Wilks đối với sample_1 và sample_2\n",
        "\n",
        "(1) [Tài liệu tham khảo scipy](https://docs.scipy.org/doc/scipy/reference/generated/scipy.stats.shapiro.html)\n",
        "\n",
        "(2) [Hướng dẫn cụ thể của statology](https://www.statology.org/shapiro-wilk-test-python/)"
      ]
    },
    {
      "cell_type": "code",
      "metadata": {
        "id": "pKTqQ5IFXNze",
        "outputId": "31881072-cffc-4d98-b6fa-7c830d2bf942",
        "colab": {
          "base_uri": "https://localhost:8080/"
        }
      },
      "source": [
        "#Code kiểm định tính chất thứ 2 của sample_1 và sample_2\n",
        "# Kiểm định Shapiro-Wilk để xác định xem một mẫu có đến từ phân phối chuẩn hay không.\n",
        "from scipy.stats import shapiro\n",
        "print(\"Kiểm định Shapiro-Wilk để xem mẫu có tuân theo phân phối chuẩn\")\n",
        "shapiro_test1 = stats.shapiro(sample_1) \n",
        "print(\"Statistic =\", shapiro_test1[0], \"\\n\",\n",
        "      \"p value =\", shapiro_test1[1])\n",
        "t1, p1 = shapiro(sample_1)\n",
        "if p1 > 0.05:\n",
        "  print(\"Chưa đủ bằng chứng thống kê để bác bỏ H0, Điều này ngụ ý Mẫu tuân theo phân phối chuẩn\")\n",
        "else:\n",
        "  print(\"Có bằng chứng thống kê để bác bỏ H0, Điều này ngụ ý Mẫu tuân không tuân theo phân phối chuẩn\")\n",
        "print(\"-----------------------------------------\")\n",
        "\n",
        "print(\"Kiểm định Shapiro-Wilk để xem mẫu có tuân theo phân phối Poisson\")\n",
        "shapiro_test2 = stats.shapiro(sample_2)\n",
        "print(\"Statistic =\", shapiro_test2[0], \"\\n\",\n",
        "      \"p value =\", shapiro_test2[1])\n",
        "t2, p2 = shapiro(sample_2)\n",
        "if p2 > 0.05:\n",
        "  print(\"Chưa đủ bằng chứng thống kê để bác bỏ H0, Điều này ngụ ý Mẫu tuân theo phân phối chuẩn\")\n",
        "else:\n",
        "  print(\"Có bằng chứng thống kê để bác bỏ H0, Điều này ngụ ý Mẫu tuân không tuân theo phân phối chuẩn\")"
      ],
      "execution_count": 5,
      "outputs": [
        {
          "output_type": "stream",
          "text": [
            "Kiểm định Shapiro-Wilk để xem mẫu có tuân theo phân phối chuẩn\n",
            "Statistic = 0.9853344559669495 \n",
            " p value = 0.33563095331192017\n",
            "Chưa đủ bằng chứng thống kê để bác bỏ H0, Điều này ngụ ý Mẫu tuân theo phân phối chuẩn\n",
            "-----------------------------------------\n",
            "Kiểm định Shapiro-Wilk để xem mẫu có tuân theo phân phối Poisson\n",
            "Statistic = 0.9581913948059082 \n",
            " p value = 0.002994443289935589\n",
            "Có bằng chứng thống kê để bác bỏ H0, Điều này ngụ ý Mẫu tuân không tuân theo phân phối chuẩn\n"
          ],
          "name": "stdout"
        }
      ]
    },
    {
      "cell_type": "markdown",
      "metadata": {
        "id": "OvQX-bmBXNzh"
      },
      "source": [
        "Hãy tham khảo các hướng dẫn sau để kiểm định tính chất thứ 3 bằng kiểm định Bartlett hoặc kiểm định Levene\n",
        "\n",
        "(1) [Hướng dẫn tổng quát](https://www.marsja.se/levenes-bartletts-test-of-equality-homogeneity-of-variance-in-python/)\n",
        "\n",
        "(2) [Hướng dẫn ở stackoverflow](https://stackoverflow.com/questions/36141254/how-to-test-for-homoscedasticity-having-the-same-population-variance-in-python)\n",
        "\n",
        "(3) Sử dụng bài giảng về kiểm định Bartlett và Levene ở buổi trước"
      ]
    },
    {
      "cell_type": "code",
      "metadata": {
        "id": "b5QBQ_f6XNzi"
      },
      "source": [
        "#Code kiểm định tính đồng nhất về phương sai của các nhóm"
      ],
      "execution_count": null,
      "outputs": []
    },
    {
      "cell_type": "code",
      "metadata": {
        "id": "xm7-tIKvXNzj",
        "outputId": "a69ab99e-fa89-4faa-a02f-3b4ed33808a2",
        "colab": {
          "base_uri": "https://localhost:8080/",
          "height": 204
        }
      },
      "source": [
        "f = {'Business Majors': np.random.normal(random.uniform(2, 5), 0.1, 35),\n",
        "     'English Majors': np.random.normal(random.uniform(2, 5), 0.2, 35),\n",
        "     'Math Majors': np.random.normal(random.uniform(2, 5), 0.15, 35),\n",
        "     'Psych Majors': np.random.normal(random.uniform(2, 5), 0.1, 35)}\n",
        "\n",
        "df = pd.DataFrame(f)\n",
        "df.head()"
      ],
      "execution_count": 8,
      "outputs": [
        {
          "output_type": "execute_result",
          "data": {
            "text/html": [
              "<div>\n",
              "<style scoped>\n",
              "    .dataframe tbody tr th:only-of-type {\n",
              "        vertical-align: middle;\n",
              "    }\n",
              "\n",
              "    .dataframe tbody tr th {\n",
              "        vertical-align: top;\n",
              "    }\n",
              "\n",
              "    .dataframe thead th {\n",
              "        text-align: right;\n",
              "    }\n",
              "</style>\n",
              "<table border=\"1\" class=\"dataframe\">\n",
              "  <thead>\n",
              "    <tr style=\"text-align: right;\">\n",
              "      <th></th>\n",
              "      <th>Business Majors</th>\n",
              "      <th>English Majors</th>\n",
              "      <th>Math Majors</th>\n",
              "      <th>Psych Majors</th>\n",
              "    </tr>\n",
              "  </thead>\n",
              "  <tbody>\n",
              "    <tr>\n",
              "      <th>0</th>\n",
              "      <td>3.306529</td>\n",
              "      <td>4.439433</td>\n",
              "      <td>5.079709</td>\n",
              "      <td>2.131854</td>\n",
              "    </tr>\n",
              "    <tr>\n",
              "      <th>1</th>\n",
              "      <td>3.275486</td>\n",
              "      <td>4.639675</td>\n",
              "      <td>4.985904</td>\n",
              "      <td>1.960294</td>\n",
              "    </tr>\n",
              "    <tr>\n",
              "      <th>2</th>\n",
              "      <td>3.306314</td>\n",
              "      <td>4.663870</td>\n",
              "      <td>4.859413</td>\n",
              "      <td>2.012560</td>\n",
              "    </tr>\n",
              "    <tr>\n",
              "      <th>3</th>\n",
              "      <td>3.251877</td>\n",
              "      <td>5.029933</td>\n",
              "      <td>4.809351</td>\n",
              "      <td>2.092170</td>\n",
              "    </tr>\n",
              "    <tr>\n",
              "      <th>4</th>\n",
              "      <td>3.606785</td>\n",
              "      <td>4.617181</td>\n",
              "      <td>5.009171</td>\n",
              "      <td>2.076271</td>\n",
              "    </tr>\n",
              "  </tbody>\n",
              "</table>\n",
              "</div>"
            ],
            "text/plain": [
              "   Business Majors  English Majors  Math Majors  Psych Majors\n",
              "0         3.306529        4.439433     5.079709      2.131854\n",
              "1         3.275486        4.639675     4.985904      1.960294\n",
              "2         3.306314        4.663870     4.859413      2.012560\n",
              "3         3.251877        5.029933     4.809351      2.092170\n",
              "4         3.606785        4.617181     5.009171      2.076271"
            ]
          },
          "metadata": {
            "tags": []
          },
          "execution_count": 8
        }
      ]
    },
    {
      "cell_type": "code",
      "metadata": {
        "id": "ScuO_XtwbJfe"
      },
      "source": [
        "Bus = df['Business Majors']\n",
        "Eng = df['English Majors']\n",
        "Math = df['Math Majors']\n",
        "Psy = df['Psych Majors']\n",
        "alpha = 0.05"
      ],
      "execution_count": 9,
      "outputs": []
    },
    {
      "cell_type": "code",
      "metadata": {
        "id": "gxH5vJBjbLv8",
        "outputId": "eb4dcb02-a2f2-402d-d685-c1c664dd1f33",
        "colab": {
          "base_uri": "https://localhost:8080/"
        }
      },
      "source": [
        "#Kiểm định bằng bartlett\n",
        "stat, pvalue = stats.bartlett(Bus, Eng, Math, Psy)\n",
        "print(\"Statistic =\", stat, \"\\n\",\n",
        "      \"p value =\", pvalue)\n",
        "if pvalue > alpha:\n",
        "  print(\"Chưa có bằng chứng thống kê để bác bỏ H0, Điều này ngụ ý rằng phương sai các mẫu bằng nhau\")\n",
        "else:\n",
        "  print(\"Có bằng chứng thống kê để bác bỏ H0, Điều này ngụ ý rằng Tồn tại ít nhất một cặp mẫu có phương sai khác nhau\")\n",
        "  #Xem phương sai của từng biến\n",
        "  b, e, m, p = [np.var(x, ddof=1) for x in [Bus, Eng, Math, Psy]]\n",
        "  print(\"Phương Sai của Bus =\", b, \"\\n\",\n",
        "      \"Phương Sai của Eng =\", e, \"\\n\",\n",
        "      \"Phương Sai của Math =\", m, \"\\n\",\n",
        "      \"Phương Sai của Psy =\", p, \"\\n\",)"
      ],
      "execution_count": 10,
      "outputs": [
        {
          "output_type": "stream",
          "text": [
            "Statistic = 14.62588715166562 \n",
            " p value = 0.002165940606209922\n",
            "Có bằng chứng thống kê để bác bỏ H0, Điều này ngụ ý rằng Tồn tại ít nhất một cặp mẫu có phương sai khác nhau\n",
            "Phương Sai của Bus = 0.011302251206286987 \n",
            " Phương Sai của Eng = 0.028293503171052403 \n",
            " Phương Sai của Math = 0.016267154295886543 \n",
            " Phương Sai của Psy = 0.008165250937285491 \n",
            "\n"
          ],
          "name": "stdout"
        }
      ]
    },
    {
      "cell_type": "code",
      "metadata": {
        "id": "n5m3jr4UbOHN"
      },
      "source": [
        "#Kiểm định bằng Levene\n",
        "stat1, pvalue = stats.levene(Bus, Eng, Math, Psy)\n",
        "print(\"Statistic =\", stat1, \"\\n\",\n",
        "      \"p value =\", pvalue1)\n",
        "if pvalue > alpha:\n",
        "  print(\"Chưa có bằng chứng thống kê để bác bỏ H0, Điều này ngụ ý rằng phương sai các mẫu bằng nhau\")\n",
        "else:\n",
        "  print(\"Có bằng chứng thống kê để bác bỏ H0, Điều này ngụ ý rằng Tồn tại ít nhất một cặp mẫu có phương sai khác nhau\")\n",
        "  #Xem phương sai của từng biến\n",
        "  b, e, m, p = [np.var(x, ddof=1) for x in [Bus, Eng, Math, Psy]]\n",
        "  print(\"Phương Sai của Bus =\", b, \"\\n\",\n",
        "      \"Phương Sai của Eng =\", e, \"\\n\",\n",
        "      \"Phương Sai của Math =\", m, \"\\n\",\n",
        "      \"Phương Sai của Psy =\", p, \"\\n\",)"
      ],
      "execution_count": null,
      "outputs": []
    }
  ]
}