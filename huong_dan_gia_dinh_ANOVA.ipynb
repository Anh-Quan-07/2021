{
  "nbformat": 4,
  "nbformat_minor": 0,
  "metadata": {
    "kernelspec": {
      "display_name": "Python 3",
      "language": "python",
      "name": "python3"
    },
    "language_info": {
      "codemirror_mode": {
        "name": "ipython",
        "version": 3
      },
      "file_extension": ".py",
      "mimetype": "text/x-python",
      "name": "python",
      "nbconvert_exporter": "python",
      "pygments_lexer": "ipython3",
      "version": "3.7.3"
    },
    "colab": {
      "name": "huong-dan-gia-dinh-ANOVA.ipynb",
      "provenance": [],
      "include_colab_link": true
    }
  },
  "cells": [
    {
      "cell_type": "markdown",
      "metadata": {
        "id": "view-in-github",
        "colab_type": "text"
      },
      "source": [
        "<a href=\"https://colab.research.google.com/github/Anh-Quan-07/2021/blob/main/huong_dan_gia_dinh_ANOVA.ipynb\" target=\"_parent\"><img src=\"https://colab.research.google.com/assets/colab-badge.svg\" alt=\"Open In Colab\"/></a>"
      ]
    },
    {
      "cell_type": "markdown",
      "metadata": {
        "id": "JkzSbA2KFgbE"
      },
      "source": [
        "PHÂN TÍCH ANOVA MỘT CHIỀU\n",
        "\n",
        "Phân tích ANOVA chấp nhận các giả định sau:\n",
        "\n",
        "(1) Tất cả các nhóm đều độc lập với nhau\n",
        "\n",
        "(2) Dữ liệu của mỗi nhóm đều tuân theo phân phối chuẩn. Tính chất này có thể được kiểm định bằng phương pháp Shapiro-Wilks.\n",
        "\n",
        "(3) Phương sai (variance) của các nhóm bằng nhau. Tính chất này có thể được kiểm định bằng phương pháp kiểm định Bartlett hay Levene.\n",
        "\n",
        "Nếu dữ liệu hiện có thỏa mãn các tính chất trên thì chúng ta mới tiến hành kiểm định ANOVA. Do vậy trước khi tiến hành kiểm định ANOVA, chúng ta cần thực hiện kiểm tra tập dữ liệu cần thỏa mãn 3 tính chất trên.\n",
        "    "
      ]
    },
    {
      "cell_type": "code",
      "metadata": {
        "id": "ZzijNG8TFgop",
        "outputId": "a72e266d-d5b1-4df9-dd7c-4166964acc10",
        "colab": {
          "base_uri": "https://localhost:8080/"
        }
      },
      "source": [
        "from scipy import stats\n",
        "import numpy as np\n",
        "import pandas as pd\n",
        "from scipy.stats import bartlett\n",
        "\n",
        "#Bước 1: Hãy tạo một tập dữ liệu mẫu sample_1 với kích thước 100 tuân theo phân phối chuẩn, cho mean = 20, std = 0.2\n",
        "sample_1 = stats.norm.rvs(loc=20, scale=0.2, size=100)\n",
        "print(sample_1[:10])"
      ],
      "execution_count": 1,
      "outputs": [
        {
          "output_type": "stream",
          "text": [
            "[19.97578953 19.82845104 19.89878301 20.09428313 19.94823596 20.04080833\n",
            " 19.83046131 19.70181331 19.83866134 20.1462338 ]\n"
          ],
          "name": "stdout"
        }
      ]
    },
    {
      "cell_type": "code",
      "metadata": {
        "id": "u1MS0JXMFgot",
        "outputId": "2b8bb72d-3af7-43b1-af03-75ba1e0a6ccd",
        "colab": {
          "base_uri": "https://localhost:8080/"
        }
      },
      "source": [
        "#Bước 2: hãy tạo tập dữ liệu mẫu sample_2 với kích thước 100 tuân theo phân phối Poisson\n",
        "sample_2 = stats.poisson.rvs(loc=20, mu = 1, size = 100)\n",
        "print(sample_2[:10])"
      ],
      "execution_count": 2,
      "outputs": [
        {
          "output_type": "stream",
          "text": [
            "[22 20 22 20 20 20 22 21 23 21]\n"
          ],
          "name": "stdout"
        }
      ]
    },
    {
      "cell_type": "markdown",
      "metadata": {
        "id": "rLzz7N_QFgou"
      },
      "source": [
        "Hãy tham khảo các hướng dẫn sau để kiểm định tính chất thứ 2 bằng phương pháp Shapiro-Wilks đối với sample_1 và sample_2\n",
        "\n",
        "(1) [Tài liệu tham khảo scipy](https://docs.scipy.org/doc/scipy/reference/generated/scipy.stats.shapiro.html)\n",
        "\n",
        "(2) [Hướng dẫn cụ thể của statology](https://www.statology.org/shapiro-wilk-test-python/)"
      ]
    },
    {
      "cell_type": "code",
      "metadata": {
        "id": "5BOia6VtFgov",
        "outputId": "1f102210-fffe-48cc-be55-edd23d699df0",
        "colab": {
          "base_uri": "https://localhost:8080/"
        }
      },
      "source": [
        "#Code kiểm định tính chất thứ 2 của sample_1 và sample_2\n",
        "# thử nghiệm Shapiro-Wilk để xác định xem một mẫu có đến từ phân phối chuẩn hay không.\n",
        "print(\"Thử nghiệm Shapiro-Wilk tuân theo phân phối chuẩn\")\n",
        "shapiro_test1 = stats.shapiro(sample_1) \n",
        "print(\"Statistic =\", shapiro_test1[0], \"\\n\",\n",
        "      \"p value =\", shapiro_test1[1])\n",
        "print(\"-----------------------------------------\")\n",
        "\n",
        "print(\"Thử nghiệm Shapiro-Wilk tuân theo phân phối Poisson\")\n",
        "shapiro_test2 = stats.shapiro(sample_2)\n",
        "print(\"Statistic =\", shapiro_test2[0], \"\\n\",\n",
        "      \"p value =\", shapiro_test2[1])"
      ],
      "execution_count": 3,
      "outputs": [
        {
          "output_type": "stream",
          "text": [
            "Thử nghiệm Shapiro-Wilk tuân theo phân phối chuẩn\n",
            "Statistic = 0.986768901348114 \n",
            " p value = 0.4222743511199951\n",
            "-----------------------------------------\n",
            "Thử nghiệm Shapiro-Wilk tuân theo phân phối Poisson\n",
            "Statistic = 0.8238606452941895 \n",
            " p value = 1.4356473787557888e-09\n"
          ],
          "name": "stdout"
        }
      ]
    },
    {
      "cell_type": "markdown",
      "metadata": {
        "id": "1nszExAVFgoy"
      },
      "source": [
        "Hãy tham khảo các hướng dẫn sau để kiểm định tính chất thứ 3 bằng kiểm định Bartlett hoặc kiểm định Levene\n",
        "\n",
        "(1) [Hướng dẫn tổng quát](https://www.marsja.se/levenes-bartletts-test-of-equality-homogeneity-of-variance-in-python/)\n",
        "\n",
        "(2) [Hướng dẫn ở stackoverflow](https://stackoverflow.com/questions/36141254/how-to-test-for-homoscedasticity-having-the-same-population-variance-in-python)\n",
        "\n",
        "(3) Sử dụng bài giảng về kiểm định Bartlett và Levene ở buổi trước"
      ]
    },
    {
      "cell_type": "code",
      "metadata": {
        "id": "epivCivbFgoz"
      },
      "source": [
        "#Code kiểm định tính đồng nhất về phương sai của các nhóm"
      ],
      "execution_count": null,
      "outputs": []
    },
    {
      "cell_type": "markdown",
      "metadata": {
        "id": "HogTKbIGLpvh"
      },
      "source": [
        "Ví dụ: Một trường đại học có 4 chuyên ngành: Kinh doanh, Psych, Toán, Tiếng Anh. Chúng tôi sẽ xem xét mức độ thất vọng của 100 sinh viên với từng chuyên ngành.\n",
        "\n",
        "$ \\ mu_ {1} $: mức độ thất vọng của các Chuyên gia kinh doanh\n",
        "\n",
        "$ \\ mu_ {2} $: mức độ thất vọng của các Chuyên gia tiếng Anh\n",
        "\n",
        "$ \\ mu_ {3} $: mức độ thất vọng của các Chuyên gia Toán học\n",
        "\n",
        "$ \\ mu_ {4} $: mức độ thất vọng của Psych Majors\n",
        "\n",
        "Kích thước của mỗi mẫu là 35. Giả sử rằng Y (mức độ thất vọng) = 10"
      ]
    },
    {
      "cell_type": "code",
      "metadata": {
        "id": "0fGCPE66Fgo1",
        "outputId": "e55b24bc-c7f6-4d5f-cb92-a53ac1893c62",
        "colab": {
          "base_uri": "https://localhost:8080/"
        }
      },
      "source": [
        "#Sinh ngẫu nhiên\n",
        "Business = np.random.choice(10, 35)\n",
        "Math = np.random.choice(10, 35)\n",
        "English = np.random.choice(10, 35)\n",
        "Psych = np.random.choice(10, 35)\n",
        "#Tạo dataframe\n",
        "list_of_tuples = list(zip(Business, English, Math, Psych))\n",
        "df2 = pd.DataFrame(list_of_tuples, columns = [\"Business Majors\", \"English Majors\", \"Math Majors\", \"Psych Majors\"])\n",
        "print(df2.head())\n",
        "#Lấy từng nhóm\n",
        "Bus = df2['Business Majors'].unique()\n",
        "Eng = df2['English Majors'].unique()\n",
        "Math = df2['Math Majors'].unique()\n",
        "Psy = df2['Psych Majors'].unique()\n",
        "alpha = 0.05"
      ],
      "execution_count": 8,
      "outputs": [
        {
          "output_type": "stream",
          "text": [
            "   Business Majors  English Majors  Math Majors  Psych Majors\n",
            "0                8               6            7             5\n",
            "1                2               2            3             1\n",
            "2                2               6            0             5\n",
            "3                3               6            4             0\n",
            "4                0               1            4             5\n"
          ],
          "name": "stdout"
        }
      ]
    },
    {
      "cell_type": "code",
      "metadata": {
        "id": "34iiP9fqLy3q",
        "outputId": "e755efba-2825-43b0-c032-7709a92309a8",
        "colab": {
          "base_uri": "https://localhost:8080/"
        }
      },
      "source": [
        "#Kiểm định bằng bartlett\n",
        "stat, pvalue = stats.bartlett(Bus, Eng, Math, Psy)\n",
        "print(\"Statistic =\", stat, \"\\n\",\n",
        "      \"p value =\", pvalue)\n",
        "if pvalue1 < alpha:\n",
        "  print(\"Các quần thể không có phương sai bằng nhau\")\n",
        "else:\n",
        "  print(\"Các quần thể có phương sai bằng nhau\")\n",
        "  #Xem phương sai của từng biến\n",
        "  b, e, m, p = [np.var(x, ddof=1) for x in [Bus, Eng, Math, Psy]]\n",
        "  print(\"PS của Bus =\", b, \"\\n\",\n",
        "      \"PS của Eng =\", e, \"\\n\",\n",
        "      \"PS của Math =\", m, \"\\n\",\n",
        "      \"PS của Psy =\", p, \"\\n\",)"
      ],
      "execution_count": 11,
      "outputs": [
        {
          "output_type": "stream",
          "text": [
            "Statistic = 0.0 \n",
            " p value = 1.0\n",
            "Các quần thể có phương sai bằng nhau\n",
            "PS của Bus = 9.166666666666666 \n",
            " PS của Eng = 9.166666666666666 \n",
            " PS của Math = 9.166666666666666 \n",
            " PS của Psy = 9.166666666666666 \n",
            "\n"
          ],
          "name": "stdout"
        }
      ]
    },
    {
      "cell_type": "code",
      "metadata": {
        "id": "LULEbQhGL04N",
        "outputId": "2d85a6dd-e3fb-4cc2-b346-ba000eb59b3e",
        "colab": {
          "base_uri": "https://localhost:8080/"
        }
      },
      "source": [
        "#Kiểm định bằng Levene\n",
        "stat1, pvalue1 = stats.levene(Bus, Eng, Math, Psy)\n",
        "print(\"Statistic =\", stat1, \"\\n\",\n",
        "      \"p value =\", pvalue1)\n",
        "if pvalue1 < alpha:\n",
        "  print(\"Các quần thể không có phương sai bằng nhau\")\n",
        "else:\n",
        "  print(\"Các quần thể có phương sai bằng nhau\")\n",
        "  #Xem phương sai của từng biến\n",
        "  b, e, m, p = [np.var(x, ddof=1) for x in [Bus, Eng, Math, Psy]]\n",
        "  print(\"PS của Bus =\", b, \"\\n\",\n",
        "      \"PS của Eng =\", e, \"\\n\",\n",
        "      \"PS của Math =\", m, \"\\n\",\n",
        "      \"PS của Psy =\", p, \"\\n\",)"
      ],
      "execution_count": 10,
      "outputs": [
        {
          "output_type": "stream",
          "text": [
            "Statistic = 0.0 \n",
            " p value = 1.0\n",
            "Các quần thể có phương sai bằng nhau\n",
            "PS của Bus = 9.166666666666666 \n",
            " PS của Eng = 9.166666666666666 \n",
            " PS của Math = 9.166666666666666 \n",
            " PS của Psy = 9.166666666666666 \n",
            "\n"
          ],
          "name": "stdout"
        }
      ]
    }
  ]
}